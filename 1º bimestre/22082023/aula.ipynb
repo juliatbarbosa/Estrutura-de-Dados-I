{
 "cells": [
  {
   "cell_type": "code",
   "execution_count": 1,
   "metadata": {},
   "outputs": [
    {
     "name": "stdout",
     "output_type": "stream",
     "text": [
      "lista de clientes\n",
      "['julia', 'ju', 'juuu', 'giseli', 'rafael', 'juuuuuuuu']\n"
     ]
    }
   ],
   "source": [
    "clientes = []\n",
    "for i in range(10):\n",
    "    nome = input ('Digite o nome:')\n",
    "    if nome not in clientes:\n",
    "        clientes.append(nome)\n",
    "print('lista de clientes')\n",
    "print (clientes)"
   ]
  }
 ],
 "metadata": {
  "kernelspec": {
   "display_name": "Python 3",
   "language": "python",
   "name": "python3"
  },
  "language_info": {
   "codemirror_mode": {
    "name": "ipython",
    "version": 3
   },
   "file_extension": ".py",
   "mimetype": "text/x-python",
   "name": "python",
   "nbconvert_exporter": "python",
   "pygments_lexer": "ipython3",
   "version": "3.11.5"
  },
  "orig_nbformat": 4
 },
 "nbformat": 4,
 "nbformat_minor": 2
}
